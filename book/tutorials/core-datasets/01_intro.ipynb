{
 "cells": [
  {
   "cell_type": "markdown",
   "id": "distant-explosion",
   "metadata": {},
   "source": [
    "# SnowEx Mission and Core Data Sets\n",
    "\n",
    "<img src=\"images/cover.png\">\n",
    "\n",
    "Tutorial objectives: \n",
    "- Distinguish the different components of the core data\n",
    "- Describe the sampling design and naming convention\n",
    "- Extract data sets and/or locations of interest\n",
    "- Manipulate the data for use in analysis and cal/val\n",
    "- Create plots using the core ground observations"
   ]
  },
  {
   "cell_type": "markdown",
   "id": "computational-baker",
   "metadata": {},
   "source": [
    "## SnowEx Background\n",
    "### What is the Mission of {SnowEx}'GRD'?\n",
    "\n",
    "SnowEx is a multi-year program initiated and funded by NASA Terrestrial Hydrology Program to address the most important gaps in snow remote sensing knowledge. It focuses on airborne campaigns and field work, and on comparing the various sensing technologies, from the mature to the more experimental, in globally-representative types of snow. The goal is to address the most important gaps in our snow remote sensing knowledge, and thus lay the groundwork for a future snow satellite mission.\n",
    "\n",
    "### Where has SnowEx been? \n",
    "(add timeline map here)\n",
    "\n",
    "### What are the core data sets and what makes them different from other data?\n",
    "\n",
    "The core data sets are standarized manual ground observations collected by SnowEx participants. These observations provide a legacy data set for the purposes of calibration and validation efforts for the remote sensing instruments. \n",
    "\n",
    "\n",
    "<img src=\"images/pits_and_depths.png\">\n",
    "\n"
   ]
  },
  {
   "cell_type": "markdown",
   "id": "least-healthcare",
   "metadata": {},
   "source": [
    " <table id=\"t01\">\n",
    "  <tr>\n",
    "    <th>Core Data Sets</th>\n",
    "    <th>Parameters Available</th>\n",
    "    <th>Instruments</th>\n",
    "    <th>NSIDC DOI</th>\n",
    "    </tr>\n",
    "  <tr>\n",
    "    <td>Snow Pits</td>\n",
    "    <td>Depth, Density, Temp., LWC, Stratigraphy,<br>Grain Size, Wetness, SWE</td>\n",
    "    <td>Standard pit kit</td>\n",
    "    <td>SNEX17_SnowPits_GMIOP: https://nsidc.org/data/SNEX17_SnowPits/versions/1<br>SNEX20_SnowPits_GMIOP https://nsidc.org/data/SNEX20_GM_SP/versions/1<tr>\n",
    "  </tr>\n",
    "  <tr>\n",
    "    <td>Depth Transects</td>\n",
    "    <td>Snow Depths - various sampling designs</td>\n",
    "    <td>Depth probes, MagnaProbe, Mesa2</td>\n",
    "    <td>chris's link<td>\n",
    "  </tr>\n",
    "  <tr>\n",
    "    <td>Interval Boards</td>\n",
    "    <td>New snow, SWE</td>\n",
    "    <td>Ruler and spring scale</td>\n",
    "    <td>future publication</td>\n",
    "  </tr>\n",
    "  <tr>\n",
    "    <td>Federal Sampler</td>\n",
    "    <td>SWE</td>\n",
    "    <td>Federal Sampler</td>\n",
    "    <td>future publication<td>\n",
    "  <tr>\n",
    "    <th>Other Data Sets</th>\n",
    "    <th>Parameters Available</th>\n",
    "    <th>Instruments</th>\n",
    "    <th>NSIDC DOI</th>\n",
    "    </tr>\n",
    " \n",
    "</table> "
   ]
  },
  {
   "cell_type": "markdown",
   "id": "early-korea",
   "metadata": {},
   "source": [
    "### What Locations have Core Data Sets? \n",
    "\n",
    "[add description here - tell everyone about Grand Mesa and the Time Series]"
   ]
  },
  {
   "cell_type": "markdown",
   "id": "hazardous-feeding",
   "metadata": {},
   "source": [
    "### What are some resouces I can use to know more about the available and antipicated core data sets? \n",
    "[link some resources here (ex. map of time series locations and sites codes)]"
   ]
  },
  {
   "cell_type": "markdown",
   "id": "nuclear-conditioning",
   "metadata": {},
   "source": [
    "### How do I go about accessing data??\n",
    "See tutorials: \n",
    "    SQL data base, (Micah Johnson)\n",
    "    Earth Data, (Amy at NSIDC)"
   ]
  },
  {
   "cell_type": "markdown",
   "id": "variable-excellence",
   "metadata": {},
   "source": [
    "## What is a snow pit\n",
    "A snow pit is where we collect a suite of ground observations\n",
    "- dig a hole in the snow until you have enough room to stand in it and you can see the ground surface\n",
    "- measure the height of snow (HS) using the pit ruler\n",
    "- measure density in 10cm intervals\n",
    "- "
   ]
  },
  {
   "cell_type": "code",
   "execution_count": null,
   "id": "noticed-violin",
   "metadata": {},
   "outputs": [],
   "source": [
    "# show table of all 150+ snowpits --> pit-ID's, lat/lon, datetime, etc."
   ]
  },
  {
   "cell_type": "code",
   "execution_count": null,
   "id": "eleven-curve",
   "metadata": {},
   "outputs": [],
   "source": [
    "# image of pit/veg matrix and flight lines (use C.Hiemstra's image or maybe Micah has something in the db?)"
   ]
  },
  {
   "cell_type": "markdown",
   "id": "regular-unemployment",
   "metadata": {},
   "source": [
    "## structure "
   ]
  },
  {
   "cell_type": "code",
   "execution_count": null,
   "id": "informational-arbitration",
   "metadata": {},
   "outputs": [],
   "source": [
    "# show NSIDC download files (show csv outputs...)"
   ]
  },
  {
   "cell_type": "markdown",
   "id": "extended-pantyhose",
   "metadata": {},
   "source": [
    "(most of everything below here is part of the other two notebooks...delete soon)\n",
    "## Tutorial Example\n",
    "\n",
    "As a first stab at working with SnowEx data, let's work with the snow pit *[hyperlink nsidc DOI]* and depth *[hyperlink nsidc DOI]* data from the Grand Mesa 2020 Campaign. "
   ]
  },
  {
   "cell_type": "code",
   "execution_count": null,
   "id": "owned-shareware",
   "metadata": {},
   "outputs": [],
   "source": [
    "# come up with some topics to suggest for an interactive demo\n",
    "    # sort pits by dry or wet (use manual wetness)\n",
    "    # find the graupel layer! or other crusts\n",
    "    # sort pits by large or small temp gradients (set a gradient threshold)\n",
    "    # categorize pits by shallow, medium, and deep zones (use the pit ID)"
   ]
  },
  {
   "cell_type": "code",
   "execution_count": null,
   "id": "present-material",
   "metadata": {},
   "outputs": [],
   "source": [
    "#test code block here\n",
    "a = 'SnowEx'\n",
    "b = 'is'\n",
    "c = 'AWESOME!!'\n",
    "\n",
    "equ = a + b + c\n",
    "print(equ)"
   ]
  },
  {
   "cell_type": "code",
   "execution_count": null,
   "id": "incoming-amino",
   "metadata": {},
   "outputs": [],
   "source": [
    "#....consider breaking up into multiple notebooks\n",
    "    # intro, background, some images\n",
    "    # example to select, plot, query data (grand mesa)\n",
    "    # example to select, plot, query data (time series)\n",
    "    # ...etc...\n",
    "    \n",
    "# this might make more managable chunks for people to work through instead of scrolling 1 massive jbook."
   ]
  },
  {
   "cell_type": "code",
   "execution_count": null,
   "id": "numerical-diagram",
   "metadata": {},
   "outputs": [],
   "source": []
  }
 ],
 "metadata": {
  "kernelspec": {
   "display_name": "Python 3",
   "language": "python",
   "name": "python3"
  },
  "language_info": {
   "codemirror_mode": {
    "name": "ipython",
    "version": 3
   },
   "file_extension": ".py",
   "mimetype": "text/x-python",
   "name": "python",
   "nbconvert_exporter": "python",
   "pygments_lexer": "ipython3",
   "version": "3.8.8"
  }
 },
 "nbformat": 4,
 "nbformat_minor": 5
}
