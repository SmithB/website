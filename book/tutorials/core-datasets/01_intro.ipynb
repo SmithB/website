{
 "cells": [
  {
   "cell_type": "markdown",
   "id": "current-arrangement",
   "metadata": {},
   "source": [
    "# SnowEx Mission and Core Data Sets\n",
    "\n",
    "<img src=\"images/cover.png\">\n",
    "\n",
    "Tutorial objectives: \n",
    "- Distinguish the different components of the core data\n",
    "- Describe the sampling design and naming convention\n",
    "- Extract data sets and/or locations of interest\n",
    "- Manipulate the data for use in analysis and cal/val\n",
    "- Create plots using the core ground observations"
   ]
  },
  {
   "cell_type": "markdown",
   "id": "phantom-rough",
   "metadata": {},
   "source": [
    "## SnowEx Background\n",
    "### What is the Mission of {SnowEx}'GRD'?\n",
    "\n",
    "SnowEx is a multi-year program initiated and funded by NASA Terrestrial Hydrology Program to address the most important gaps in snow remote sensing knowledge. It focuses on airborne campaigns and field work, and on comparing the various sensing technologies, from the mature to the more experimental, in globally-representative types of snow. The goal is to address the most important gaps in our snow remote sensing knowledge, and thus lay the groundwork for a future snow satellite mission.\n",
    "\n",
    "### Where has SnowEx been? \n",
    "(add timeline)\n",
    "\n",
    "### What are the core data sets and what makes them different from other data?\n",
    "\n",
    "The core data sets are standarized manual ground observations collected by SnowEx participants. These observations provide a legacy data set for the purposes of calibration and validation efforts for the remote sensing instruments. \n",
    "\n",
    "The Core Data Sets are: \n",
    "\n",
    "<img src=\"images/pits_and_depths.png\">\n",
    "\n",
    "| Core Data Set Name | Parameters Available                                                                                                | Instruments                     |\n",
    "|--------------------|---------------------------------------------------------------------------------------------------------------------|---------------------------------|\n",
    "| Snow Pits          | Depth, Density, Liquid Water Content (LWC),  Temperature, Stratigraphy, Grain Size,  Hand Hardness, Manual Wetness  | Standard pit kit           |\n",
    "| Depth Transects    | Snow Depths - various sampling designs                                                                              | Depth probes, MagnaProbe, Mesa2 |\n",
    "| Interval Boards    | New snow, SWE                                                                                                       | Ruler and spring scale          |\n",
    "| Federal Sampler    | SWE                                                                                                                 | Federal Sampler                 |\n",
    "\n",
    "\n",
    "*add more here and improve the table (SSA, SMP, whatelse?)...*\n",
    "*add a photo of a snow pit!*\n"
   ]
  },
  {
   "cell_type": "markdown",
   "id": "unlikely-checklist",
   "metadata": {},
   "source": [
    "### What Locations have Core Data Sets? \n",
    "\n",
    "[add description here - tell everyone about Grand Mesa and the Time Series]"
   ]
  },
  {
   "cell_type": "markdown",
   "id": "contemporary-intention",
   "metadata": {},
   "source": [
    "### What are some resouces I can use to know more about the available and antipicated core data sets? \n",
    "[link some resources here (ex. map of time series locations and sites codes)]"
   ]
  },
  {
   "cell_type": "markdown",
   "id": "helpful-charity",
   "metadata": {},
   "source": [
    "### How do I go about accessing data??\n",
    "See tutorials: \n",
    "    SQL data base, (Micah Johnson)\n",
    "    Earth Data, (Amy at NSIDC)"
   ]
  },
  {
   "cell_type": "markdown",
   "id": "tamil-berry",
   "metadata": {},
   "source": [
    "## Intro"
   ]
  },
  {
   "cell_type": "code",
   "execution_count": null,
   "id": "charming-escape",
   "metadata": {},
   "outputs": [],
   "source": [
    "# show table of all 150+ snowpits --> pit-ID's, lat/lon, datetime, etc."
   ]
  },
  {
   "cell_type": "code",
   "execution_count": null,
   "id": "practical-foster",
   "metadata": {},
   "outputs": [],
   "source": [
    "# image of pit/veg matrix and flight lines (use C.Hiemstra's image or maybe Micah has something in the db?)"
   ]
  },
  {
   "cell_type": "markdown",
   "id": "opposite-origin",
   "metadata": {},
   "source": [
    "## structure "
   ]
  },
  {
   "cell_type": "code",
   "execution_count": null,
   "id": "criminal-story",
   "metadata": {},
   "outputs": [],
   "source": [
    "# show NSIDC download files (show csv outputs...)"
   ]
  },
  {
   "cell_type": "markdown",
   "id": "fifth-sierra",
   "metadata": {},
   "source": [
    "(most of everything below here is part of the other two notebooks...delete soon)\n",
    "## Tutorial Example\n",
    "\n",
    "As a first stab at working with SnowEx data, let's work with the snow pit *[hyperlink nsidc DOI]* and depth *[hyperlink nsidc DOI]* data from the Grand Mesa 2020 Campaign. "
   ]
  },
  {
   "cell_type": "code",
   "execution_count": null,
   "id": "beneficial-young",
   "metadata": {},
   "outputs": [],
   "source": [
    "# come up with some topics to suggest for an interactive demo\n",
    "    # sort pits by dry or wet (use manual wetness)\n",
    "    # find the graupel layer! or other crusts\n",
    "    # sort pits by large or small temp gradients (set a gradient threshold)\n",
    "    # categorize pits by shallow, medium, and deep zones (use the pit ID)"
   ]
  },
  {
   "cell_type": "code",
   "execution_count": null,
   "id": "further-rebecca",
   "metadata": {},
   "outputs": [],
   "source": [
    "#test code block here\n",
    "a = 'SnowEx'\n",
    "b = 'is'\n",
    "c = 'AWESOME!!'\n",
    "\n",
    "equ = a + b + c\n",
    "print(equ)"
   ]
  },
  {
   "cell_type": "code",
   "execution_count": null,
   "id": "constitutional-helmet",
   "metadata": {},
   "outputs": [],
   "source": [
    "#....consider breaking up into multiple notebooks\n",
    "    # intro, background, some images\n",
    "    # example to select, plot, query data (grand mesa)\n",
    "    # example to select, plot, query data (time series)\n",
    "    # ...etc...\n",
    "    \n",
    "# this might make more managable chunks for people to work through instead of scrolling 1 massive jbook."
   ]
  },
  {
   "cell_type": "code",
   "execution_count": null,
   "id": "fourth-exchange",
   "metadata": {},
   "outputs": [],
   "source": []
  }
 ],
 "metadata": {
  "kernelspec": {
   "display_name": "Python 3",
   "language": "python",
   "name": "python3"
  },
  "language_info": {
   "codemirror_mode": {
    "name": "ipython",
    "version": 3
   },
   "file_extension": ".py",
   "mimetype": "text/x-python",
   "name": "python",
   "nbconvert_exporter": "python",
   "pygments_lexer": "ipython3",
   "version": "3.8.8"
  }
 },
 "nbformat": 4,
 "nbformat_minor": 5
}
