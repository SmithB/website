{
 "cells": [
  {
   "cell_type": "code",
   "execution_count": 2,
   "id": "common-contents",
   "metadata": {},
   "outputs": [],
   "source": [
    "# imports\n",
    "from snowexsql.db import get_db\n",
    "from snowexsql.data import SiteData, ImageData, LayerData, PointData\n",
    "from snowexsql.conversions import query_to_geopandas\n",
    "import datetime"
   ]
  },
  {
   "cell_type": "code",
   "execution_count": 3,
   "id": "recent-legend",
   "metadata": {},
   "outputs": [],
   "source": [
    "# load the database\n",
    "db_name = 'snow:hackweek@52.32.183.144/snowex'\n",
    "engine, session = get_db(db_name)"
   ]
  },
  {
   "cell_type": "markdown",
   "id": "crude-thinking",
   "metadata": {},
   "source": [
    "## Snow Pits\n",
    "### Example 1: \n",
    "grab all pits that overlap with lidar day(s)\n",
    "\n",
    "1). Have a known date in mind that you wish to select, here's how:\n",
    "\n",
    "2). Unsure of the date, but know which instrument you'd like to overlap with, here's how:"
   ]
  },
  {
   "cell_type": "code",
   "execution_count": 8,
   "id": "inclusive-frost",
   "metadata": {},
   "outputs": [],
   "source": [
    "qry = session.query(ImageData.surveyors)"
   ]
  },
  {
   "cell_type": "code",
   "execution_count": 11,
   "id": "choice-buying",
   "metadata": {},
   "outputs": [
    {
     "name": "stdout",
     "output_type": "stream",
     "text": [
      "[('1C5', datetime.date(2020, 2, 12)), ('FL1B', datetime.date(2020, 2, 12)), ('2C12', datetime.date(2020, 2, 12)), ('5N24', datetime.date(2020, 2, 12)), ('6S26', datetime.date(2020, 2, 12)), ('2C13', datetime.date(2020, 2, 12)), ('5N32', datetime.date(2020, 2, 12))]\n"
     ]
    }
   ],
   "source": [
    "# Form on the Images table that returns Raster collection dates\n",
    "qry = session.query(ImageData.date)\n",
    "\n",
    "# Filter by ASO to get the Lidar flights \n",
    "qry = qry.filter(ImageData.surveyors == 'ASO Inc.')\n",
    "\n",
    "# Grab the unique dates\n",
    "qry = qry.distinct()\n",
    "\n",
    "# Execute the query \n",
    "dates = qry.all() \n",
    "\n",
    "# Clean up the dates \n",
    "dates = [d[0] for d in dates]\n",
    "\n",
    "# Pick a day \n",
    "dt = dates[1]\n",
    "\n",
    "\n",
    "# Form a date range to query on either side of our chosen day \n",
    "date_range = [dt + i * datetime.timedelta(days=1) for i in [-1, 0, 1]]\n",
    "\n",
    "\n",
    "# Find all the pits done on these days \n",
    "qry = session.query(SiteData.site_id, SiteData.date)\n",
    "qry = qry.filter(SiteData.date.in_(date_range))\n",
    "results = qry.all()\n",
    "print(results)\n"
   ]
  },
  {
   "cell_type": "code",
   "execution_count": null,
   "id": "bound-twelve",
   "metadata": {},
   "outputs": [],
   "source": [
    "# Great for debugging especially when trying different queries\n",
    "session.rollback()\n",
    "\n",
    "# Find all the data that was collected on 2-1-2020\n",
    "dt = datetime.date(2020, 2, 1)\n",
    "\n",
    "# Grab all point data instruments from our date\n",
    "point_instruments = session.query(PointData.instrument).filter(PointData.date == dt).distinct().all()\n",
    "print(point_instruments)\n",
    "\n",
    "# Grab all Layer data instruments from our date\n",
    "layer_instruments = session.query(LayerData.instrument, LayerData.type).filter(LayerData.date == dt).distinct().all()\n",
    "print(layer_instruments)\n",
    "\n",
    "# Grab all Image data instruments from our date\n",
    "image_instruments = session.query(ImageData.instrument).filter(ImageData.date == dt).distinct().all()\n",
    "print(image_instruments)\n"
   ]
  },
  {
   "cell_type": "code",
   "execution_count": null,
   "id": "solar-headset",
   "metadata": {},
   "outputs": [],
   "source": []
  },
  {
   "cell_type": "markdown",
   "id": "intensive-tolerance",
   "metadata": {},
   "source": [
    "### Example 2: \n",
    "grab all pits based on flight line pattern\n",
    "\n",
    "1). only want to analyize pits from the 'N' flight line?\n",
    "\n",
    "2). what about the 'N' flight line for a 1 week period?"
   ]
  },
  {
   "cell_type": "code",
   "execution_count": null,
   "id": "tight-appearance",
   "metadata": {},
   "outputs": [],
   "source": [
    "# Grab density\n",
    "import matplotlib.pyplot as plt \n",
    "\n",
    "session.rollback()\n",
    "\n",
    "q = session.query(LayerData).filter(LayerData.type == 'density').filter(LayerData.site_id.contains('N')).limit(100)\n",
    "df = query_to_geopandas(q, engine)\n",
    "# Convert density to float\n",
    "df['value'] = df['value'].astype(float)\n",
    "\n",
    "df \n",
    "\n",
    "df.plot()\n",
    "plt.show()\n",
    "\n",
    "\n",
    "# Calculate SWE\n",
    "# swe_lambda = lambda row: row['value'] * (row['depth'] - row['bottom_depth']) / 100\n",
    "# df['swe'] = df.apply(swe_lambda, axis=1)"
   ]
  },
  {
   "cell_type": "code",
   "execution_count": null,
   "id": "popular-jewel",
   "metadata": {},
   "outputs": [],
   "source": [
    "df"
   ]
  },
  {
   "cell_type": "code",
   "execution_count": null,
   "id": "another-sugar",
   "metadata": {},
   "outputs": [],
   "source": []
  },
  {
   "cell_type": "markdown",
   "id": "analyzed-religion",
   "metadata": {},
   "source": [
    "### Example 3: \n",
    "grab all pits based on the depth and vegetation matrix\n",
    "\n",
    "1). interested in isolating shallow pits? here's how: \n",
    "\n",
    "2). what about pits in dense canopy cover? "
   ]
  },
  {
   "cell_type": "code",
   "execution_count": null,
   "id": "systematic-homework",
   "metadata": {},
   "outputs": [],
   "source": [
    "## Depths"
   ]
  },
  {
   "cell_type": "code",
   "execution_count": null,
   "id": "collective-lindsay",
   "metadata": {},
   "outputs": [],
   "source": []
  },
  {
   "cell_type": "code",
   "execution_count": null,
   "id": "sufficient-india",
   "metadata": {},
   "outputs": [],
   "source": []
  }
 ],
 "metadata": {
  "kernelspec": {
   "display_name": "Python 3",
   "language": "python",
   "name": "python3"
  },
  "language_info": {
   "codemirror_mode": {
    "name": "ipython",
    "version": 3
   },
   "file_extension": ".py",
   "mimetype": "text/x-python",
   "name": "python",
   "nbconvert_exporter": "python",
   "pygments_lexer": "ipython3",
   "version": "3.8.8"
  }
 },
 "nbformat": 4,
 "nbformat_minor": 5
}
