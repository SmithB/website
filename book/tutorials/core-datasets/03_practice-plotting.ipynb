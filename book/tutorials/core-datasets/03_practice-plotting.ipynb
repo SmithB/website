{
 "cells": [
  {
   "cell_type": "code",
   "execution_count": null,
   "id": "spare-stretch",
   "metadata": {},
   "outputs": [],
   "source": [
    "# imports here"
   ]
  },
  {
   "cell_type": "markdown",
   "id": "creative-separate",
   "metadata": {},
   "source": [
    "Distinguish pits by snow depth classes: 'shallow', 'medium', 'deep'"
   ]
  },
  {
   "cell_type": "markdown",
   "id": "spanish-celebrity",
   "metadata": {},
   "source": [
    "PLOT: #1 Density\n",
    "\n",
    "  - depth (cm) vs. density (kg/m3) for snow depth classes\n",
    "  - 3 colors: shallow (r), medium (g), deep (b)\n",
    "  - vertical bars to show the 10cm measurement increments (see ../images)  \n",
    "  - time period -- (hmm, all? single day? 1 week avg?)"
   ]
  },
  {
   "cell_type": "markdown",
   "id": "alien-partnership",
   "metadata": {},
   "source": [
    "PLOT: #2 Temperature\n",
    "\n",
    "  - depth (cm) vs. temperature (C) for snow depth classes\n",
    "  - 3 colors: shallow (r), medium (g), deep (b)\n",
    "  - x-axis is -10 to 0 (see ../images)  \n",
    "  - time period -- (hmm, all? single day? 1 week avg?)\n",
    "  - could plot all pits with light gray line (or group by depth classes in a light/transparent color) and then take the avg. of 'shallow', 'medium', 'deep' and plot with a bold color line"
   ]
  },
  {
   "cell_type": "markdown",
   "id": "circular-press",
   "metadata": {},
   "source": [
    "PLOT: #3\n",
    "  - do something with stratigraphy here....still thinking on that..."
   ]
  },
  {
   "cell_type": "code",
   "execution_count": null,
   "id": "prostate-johnson",
   "metadata": {},
   "outputs": [],
   "source": [
    "from snowexsql.db import get_db\n",
    "from snowexsql.data import SiteData, ImageData, LayerData, PointData\n",
    "from snowexsql.conversions import query_to_geopandas\n",
    "import datetime\n",
    "\n",
    "def parse_class(site_id):\n",
    "    # Classifying by expected depth \n",
    "    depth_class = {'shallow':[1, 3], 'medium':[4, 6], 'deep':[7, 9]}\n",
    "   \n",
    "    dclass = None \n",
    "    \n",
    "    class_id = site_id[0]\n",
    "    \n",
    "    if class_id.isnumeric():\n",
    "        class_id = int(class_id)\n",
    "\n",
    "        for k,v in depth_class.items():\n",
    "\n",
    "            if class_id >= v[0] and class_id <= v[1]:\n",
    "                dclass = k \n",
    "                break\n",
    "\n",
    "    return dclass \n",
    "\n",
    "\n",
    "# load the database\n",
    "db_name = 'snow:hackweek@52.32.183.144/snowex'\n",
    "engine, session = get_db(db_name)\n",
    "\n",
    "result = session.query(LayerData.type).distinct().all()\n",
    "print(result)\n",
    "\n",
    "qry = session.query(LayerData).filter(LayerData.type=='density')\n",
    "\n",
    "# Form our dataframe from the query \n",
    "df = query_to_geopandas(qry, engine)\n",
    "\n",
    "# Form a handy lambda for performant ops in df's\n",
    "depth_class_lambda = lambda row: parse_class(row['site_id'])\n",
    "df['depth_class'] = df.apply(depth_class_lambda, axis=1)\n",
    "\n",
    "# Show off our df \n",
    "df.plot()"
   ]
  },
  {
   "cell_type": "code",
   "execution_count": null,
   "id": "recorded-coach",
   "metadata": {},
   "outputs": [],
   "source": []
  },
  {
   "cell_type": "code",
   "execution_count": null,
   "id": "surrounded-aberdeen",
   "metadata": {},
   "outputs": [],
   "source": []
  }
 ],
 "metadata": {
  "kernelspec": {
   "display_name": "Python 3",
   "language": "python",
   "name": "python3"
  },
  "language_info": {
   "codemirror_mode": {
    "name": "ipython",
    "version": 3
   },
   "file_extension": ".py",
   "mimetype": "text/x-python",
   "name": "python",
   "nbconvert_exporter": "python",
   "pygments_lexer": "ipython3",
   "version": "3.8.8"
  }
 },
 "nbformat": 4,
 "nbformat_minor": 5
}
